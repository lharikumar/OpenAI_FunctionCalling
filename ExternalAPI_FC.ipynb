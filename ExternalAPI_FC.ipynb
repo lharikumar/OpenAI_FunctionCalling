{
  "nbformat": 4,
  "nbformat_minor": 0,
  "metadata": {
    "colab": {
      "provenance": [],
      "authorship_tag": "ABX9TyOHQMGWDBug3D38+ckzCTJD",
      "include_colab_link": true
    },
    "kernelspec": {
      "name": "python3",
      "display_name": "Python 3"
    },
    "language_info": {
      "name": "python"
    }
  },
  "cells": [
    {
      "cell_type": "markdown",
      "metadata": {
        "id": "view-in-github",
        "colab_type": "text"
      },
      "source": [
        "<a href=\"https://colab.research.google.com/github/lharikumar/OpenAI_FunctionCalling/blob/main/ExternalAPI_FC.ipynb\" target=\"_parent\"><img src=\"https://colab.research.google.com/assets/colab-badge.svg\" alt=\"Open In Colab\"/></a>"
      ]
    },
    {
      "cell_type": "markdown",
      "source": [
        "### Pre-requisites\n",
        "\n",
        "1. Get the OpenAI API key at https://platform.openai.com/account/api-keys\n",
        "2. Get the weather API key from any website that provides weather APIs. I got the key from https://home.openweathermap.org/api_keys"
      ],
      "metadata": {
        "id": "eZndFNLd0pIb"
      }
    },
    {
      "cell_type": "markdown",
      "source": [
        "### Install and import the required libraries\n",
        "\n"
      ],
      "metadata": {
        "id": "Eja2YTV5rC8W"
      }
    },
    {
      "cell_type": "code",
      "source": [
        "!pip install -qU openai python-dotenv"
      ],
      "metadata": {
        "id": "JQ6OIT_Tm1sm"
      },
      "execution_count": 1,
      "outputs": []
    },
    {
      "cell_type": "code",
      "source": [
        "import requests\n",
        "import dotenv\n",
        "import os\n",
        "import openai\n",
        "import json"
      ],
      "metadata": {
        "id": "aK4xQikxm557"
      },
      "execution_count": 2,
      "outputs": []
    },
    {
      "cell_type": "markdown",
      "source": [
        "### Read the keys from the .env files\n",
        "\n",
        "**Never** use you API keys directly in the code"
      ],
      "metadata": {
        "id": "UtdPy_CLrTbr"
      }
    },
    {
      "cell_type": "code",
      "execution_count": 3,
      "metadata": {
        "id": "FpjeovbV3Op5"
      },
      "outputs": [],
      "source": [
        "## Read the keys from the .env file\n",
        "dotenv.load_dotenv(\"./env_files/.env\")\n",
        "weather_api_key = os.getenv('WEATHER_API_KEY')\n",
        "openai_api_key = os.getenv('OPENAI_API_KEY')"
      ]
    },
    {
      "cell_type": "markdown",
      "source": [
        "### The Weather API\n",
        "\n",
        "**Note** - The API outputs the temperature in Kelvin"
      ],
      "metadata": {
        "id": "RS-dJJHvrjNC"
      }
    },
    {
      "cell_type": "code",
      "source": [
        "def get_current_weather(location, unit):\n",
        "    location = location.split(',')[0]\n",
        "    url = f\"https://api.openweathermap.org/data/2.5/weather?q={location}&appid={weather_api_key}&unit={unit}\"\n",
        "\n",
        "\n",
        "    try:\n",
        "        response = requests.get(url)\n",
        "        response.raise_for_status()\n",
        "        weather_data = response.json()\n",
        "\n",
        "\n",
        "        converstion_factor = 0\n",
        "        if unit == \"imperial\":\n",
        "          converstion_factor = 33.8\n",
        "\n",
        "        weather_info = {\n",
        "            \"location\": location,\n",
        "            \"temperature\": (weather_data[\"main\"][\"temp\"] - 273.15) + converstion_factor,\n",
        "            \"unit\": unit\n",
        "        }\n",
        "        return json.dumps(weather_info)\n",
        "    except requests.exceptions.RequestException as e:\n",
        "        print(f\"Error calling the weather API: {e}\")"
      ],
      "metadata": {
        "id": "msI4WXXZ3SnJ"
      },
      "execution_count": 4,
      "outputs": []
    },
    {
      "cell_type": "code",
      "source": [
        "resp = get_current_weather(\"Bangalore\", \"celsius\")\n",
        "resp"
      ],
      "metadata": {
        "colab": {
          "base_uri": "https://localhost:8080/",
          "height": 36
        },
        "id": "g6kUWkPzfKID",
        "outputId": "622e5cb7-ed5f-4448-db14-c197696f45ae"
      },
      "execution_count": 5,
      "outputs": [
        {
          "output_type": "execute_result",
          "data": {
            "text/plain": [
              "'{\"location\": \"Bangalore\", \"temperature\": 21.900000000000034, \"unit\": \"celsius\"}'"
            ],
            "application/vnd.google.colaboratory.intrinsic+json": {
              "type": "string"
            }
          },
          "metadata": {},
          "execution_count": 5
        }
      ]
    },
    {
      "cell_type": "markdown",
      "source": [
        "# OpenAI Function Calling"
      ],
      "metadata": {
        "id": "OSQMQSFpCBg4"
      }
    },
    {
      "cell_type": "markdown",
      "source": [
        "## Step 1 - Call the model with functions and the user’s input"
      ],
      "metadata": {
        "id": "Tfzjmb1VCPdZ"
      }
    },
    {
      "cell_type": "code",
      "source": [
        "available_functions = {\n",
        "            \"get_current_weather\": get_current_weather,\n",
        "        }"
      ],
      "metadata": {
        "id": "6VHQmig5c2bI"
      },
      "execution_count": 6,
      "outputs": []
    },
    {
      "cell_type": "code",
      "source": [
        "openai.api_key = os.getenv(\"OPENAI_API_KEY\")\n",
        "messages = [{\"role\": \"user\", \"content\": \"What's the weather like in Boston ?\"}]\n",
        "functions = [\n",
        "        {\n",
        "            \"name\": \"get_current_weather\",\n",
        "            \"description\": \"Get the current weather in a given location\",\n",
        "            \"parameters\": {\n",
        "                \"type\": \"object\",\n",
        "                \"properties\": {\n",
        "                    \"location\": {\n",
        "                        \"type\": \"string\",\n",
        "                        \"description\": \"The city and state e.g. San Francisco, CA\",\n",
        "                    },\n",
        "                    \"unit\": {\n",
        "                        \"type\": \"string\",\n",
        "                        \"description\": \"The  unit system for temperature used at location\",\n",
        "                     },\n",
        "                },\n",
        "                \"required\": [\"location\", \"unit\"],\n",
        "            },\n",
        "        }\n",
        "    ]\n",
        "\n",
        "response = openai.ChatCompletion.create(\n",
        "        model=\"gpt-3.5-turbo-0613\",\n",
        "        messages=messages,\n",
        "        functions=functions,\n",
        "        function_call=\"auto\"\n",
        "    )\n",
        "\n",
        "print(response.choices[0].message)\n"
      ],
      "metadata": {
        "id": "ZuuLPfpL3Ze7",
        "colab": {
          "base_uri": "https://localhost:8080/"
        },
        "outputId": "dc4cec96-63f4-46e4-b38f-165891279827"
      },
      "execution_count": 7,
      "outputs": [
        {
          "output_type": "stream",
          "name": "stdout",
          "text": [
            "{\n",
            "  \"role\": \"assistant\",\n",
            "  \"content\": null,\n",
            "  \"function_call\": {\n",
            "    \"name\": \"get_current_weather\",\n",
            "    \"arguments\": \"{\\n  \\\"location\\\": \\\"Boston, MA\\\",\\n  \\\"unit\\\": \\\"imperial\\\"\\n}\"\n",
            "  }\n",
            "}\n"
          ]
        }
      ]
    },
    {
      "cell_type": "markdown",
      "source": [
        "## Step 2 - Use the model response to call your API"
      ],
      "metadata": {
        "id": "o-gIMu7qZ5v-"
      }
    },
    {
      "cell_type": "code",
      "source": [
        "response_msg = response.choices[0].message\n",
        "if response_msg.get(\"function_call\"):\n",
        "    function_name = response_msg[\"function_call\"][\"name\"]\n",
        "    function_to_call = available_functions[function_name]\n",
        "    function_args = json.loads(response_msg[\"function_call\"][\"arguments\"])\n",
        "    function_response = function_to_call(\n",
        "            location=function_args.get(\"location\"),\n",
        "            unit=function_args.get(\"unit\")\n",
        "    )"
      ],
      "metadata": {
        "id": "FdK_UuL0ae5-"
      },
      "execution_count": 8,
      "outputs": []
    },
    {
      "cell_type": "code",
      "source": [
        "response_msg"
      ],
      "metadata": {
        "colab": {
          "base_uri": "https://localhost:8080/"
        },
        "id": "-8apCbKQmOrv",
        "outputId": "bf670ec4-6d3f-4357-c951-f7629196ec37"
      },
      "execution_count": 9,
      "outputs": [
        {
          "output_type": "execute_result",
          "data": {
            "text/plain": [
              "<OpenAIObject at 0x7fe48b5bec00> JSON: {\n",
              "  \"role\": \"assistant\",\n",
              "  \"content\": null,\n",
              "  \"function_call\": {\n",
              "    \"name\": \"get_current_weather\",\n",
              "    \"arguments\": \"{\\n  \\\"location\\\": \\\"Boston, MA\\\",\\n  \\\"unit\\\": \\\"imperial\\\"\\n}\"\n",
              "  }\n",
              "}"
            ]
          },
          "metadata": {},
          "execution_count": 9
        }
      ]
    },
    {
      "cell_type": "code",
      "source": [
        "function_response"
      ],
      "metadata": {
        "colab": {
          "base_uri": "https://localhost:8080/",
          "height": 36
        },
        "id": "zxZ2YZYImVPt",
        "outputId": "cadf9706-2e98-44e7-f97d-447ff96b4cf7"
      },
      "execution_count": 10,
      "outputs": [
        {
          "output_type": "execute_result",
          "data": {
            "text/plain": [
              "'{\"location\": \"Boston\", \"temperature\": 54.08000000000003, \"unit\": \"imperial\"}'"
            ],
            "application/vnd.google.colaboratory.intrinsic+json": {
              "type": "string"
            }
          },
          "metadata": {},
          "execution_count": 10
        }
      ]
    },
    {
      "cell_type": "markdown",
      "source": [
        "## Step 3 - Send the response back to the model to summarize"
      ],
      "metadata": {
        "id": "uiHOf_eTqi-u"
      }
    },
    {
      "cell_type": "code",
      "source": [
        "messages.append(response_msg)  # extend conversation with assistant's reply\n",
        "messages.append(\n",
        "            {\n",
        "                \"role\": \"function\",\n",
        "                \"name\": function_name,\n",
        "                \"content\": function_response,\n",
        "            }\n",
        "        )  # extend conversation with function response\n",
        "response_to_user = openai.ChatCompletion.create(\n",
        "            model=\"gpt-3.5-turbo-0613\",\n",
        "            messages=messages,\n",
        "        )  # get a new response from GPT where it can see the function response"
      ],
      "metadata": {
        "id": "Wuln4SqAcVYo"
      },
      "execution_count": 11,
      "outputs": []
    },
    {
      "cell_type": "code",
      "source": [
        "response_to_user"
      ],
      "metadata": {
        "colab": {
          "base_uri": "https://localhost:8080/"
        },
        "id": "yzblOBqrlkaS",
        "outputId": "9d1adf90-2be0-4f1a-eb88-d09d48bcb771"
      },
      "execution_count": 12,
      "outputs": [
        {
          "output_type": "execute_result",
          "data": {
            "text/plain": [
              "<OpenAIObject chat.completion id=chatcmpl-7ULOYviZ0twQMZFLJxSyNJzpCeXwl at 0x7fe48b7afba0> JSON: {\n",
              "  \"id\": \"chatcmpl-7ULOYviZ0twQMZFLJxSyNJzpCeXwl\",\n",
              "  \"object\": \"chat.completion\",\n",
              "  \"created\": 1687466438,\n",
              "  \"model\": \"gpt-3.5-turbo-0613\",\n",
              "  \"choices\": [\n",
              "    {\n",
              "      \"index\": 0,\n",
              "      \"message\": {\n",
              "        \"role\": \"assistant\",\n",
              "        \"content\": \"The current weather in Boston, MA is 54.08\\u00b0F.\"\n",
              "      },\n",
              "      \"finish_reason\": \"stop\"\n",
              "    }\n",
              "  ],\n",
              "  \"usage\": {\n",
              "    \"prompt_tokens\": 75,\n",
              "    \"completion_tokens\": 14,\n",
              "    \"total_tokens\": 89\n",
              "  }\n",
              "}"
            ]
          },
          "metadata": {},
          "execution_count": 12
        }
      ]
    }
  ]
}