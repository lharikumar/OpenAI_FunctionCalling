{
  "nbformat": 4,
  "nbformat_minor": 0,
  "metadata": {
    "colab": {
      "provenance": [],
      "authorship_tag": "ABX9TyNX/bex0LVE2Zj9AT8uzKYE",
      "include_colab_link": true
    },
    "kernelspec": {
      "name": "python3",
      "display_name": "Python 3"
    },
    "language_info": {
      "name": "python"
    }
  },
  "cells": [
    {
      "cell_type": "markdown",
      "metadata": {
        "id": "view-in-github",
        "colab_type": "text"
      },
      "source": [
        "<a href=\"https://colab.research.google.com/github/lharikumar/OpenAI_FunctionCalling/blob/main/ExtractData_with_FC.ipynb\" target=\"_parent\"><img src=\"https://colab.research.google.com/assets/colab-badge.svg\" alt=\"Open In Colab\"/></a>"
      ]
    },
    {
      "cell_type": "markdown",
      "source": [
        "**Pre-requisites:**\n",
        "\n",
        "1.   Get the OpenAI API key at https://platform.openai.com/account/api-keys\n",
        "2.   We need a text to extract structured data from. I have taken the data from\n",
        "     - https://sports.yahoo.com/us-open-2023-coco-gauff-wins-1st-grand-slam-title-with-wild-comeback-vs-aryna-sabalenka-222431287.html\n",
        "     - https://www.usopen.org/en_US/news/articles/2023-09-10/novak_djokovic_wins_24th_grand_slam_singles_title_at_2023_us_open.html\n",
        "\n",
        "\n",
        "**Note:**\n",
        "\n",
        "*   Store the OpenAI API key as an environment variable. Never use them directly in the code"
      ],
      "metadata": {
        "id": "aq4StepB9lhL"
      }
    },
    {
      "cell_type": "code",
      "execution_count": 21,
      "metadata": {
        "id": "V9d7S4ht9C9N"
      },
      "outputs": [],
      "source": [
        "!pip install -qU python-dotenv openai"
      ]
    },
    {
      "cell_type": "code",
      "source": [
        "import os\n",
        "import dotenv\n",
        "import openai\n",
        "import json"
      ],
      "metadata": {
        "id": "DQbsSJFg9ahd"
      },
      "execution_count": 22,
      "outputs": []
    },
    {
      "cell_type": "code",
      "source": [
        "dotenv.load_dotenv('/content/env_files/.env')\n",
        "openai.api_key = os.getenv('OPENAI_API_KEY')"
      ],
      "metadata": {
        "id": "9nNUYZoB9eYP"
      },
      "execution_count": 23,
      "outputs": []
    },
    {
      "cell_type": "code",
      "source": [
        "# Converts a list into a JSON formatted string\n",
        "def format_json(people):\n",
        "  json_formatted_str = json.dumps(people, indent=2)\n",
        "  return(json_formatted_str)"
      ],
      "metadata": {
        "id": "ZELPAqQeIASk"
      },
      "execution_count": 24,
      "outputs": []
    },
    {
      "cell_type": "code",
      "source": [
        "tmplist =  [{\"name\":\"n1\",\"birthday\":\"January 1, 1900\", \"profession\" : \"p1\", \"home_country\": \"h1\"},{\"name\":\"n2\",\"birthday\":\"December 1, 1900\", \"profession\" : \"p2\", \"home_country\": \"h2\"}]\n",
        "\n",
        "print(format_json(tmplist))"
      ],
      "metadata": {
        "colab": {
          "base_uri": "https://localhost:8080/"
        },
        "id": "yFPb_xizJp71",
        "outputId": "9490dff9-2725-41ce-b164-1b338cd8014a"
      },
      "execution_count": 25,
      "outputs": [
        {
          "output_type": "stream",
          "name": "stdout",
          "text": [
            "[\n",
            "  {\n",
            "    \"name\": \"n1\",\n",
            "    \"birthday\": \"January 1, 1900\",\n",
            "    \"profession\": \"p1\",\n",
            "    \"home_country\": \"h1\"\n",
            "  },\n",
            "  {\n",
            "    \"name\": \"n2\",\n",
            "    \"birthday\": \"December 1, 1900\",\n",
            "    \"profession\": \"p2\",\n",
            "    \"home_country\": \"h2\"\n",
            "  }\n",
            "]\n"
          ]
        }
      ]
    },
    {
      "cell_type": "code",
      "source": [
        "text1 = \"Coco Gauff has been earmarked as the future of women's tennis since she was 15 years old. That future arrived at the US Open on Saturday, in the form of her first Grand Slam championship. The 19-year-old American outlasted No. 2 seed Aryna Sabalenka, the new top-ranked player in the WTA, in a 2-6, 6-3, 6-2 thriller in the US Open final at Arthur Ashe Stadium. She becomes the 11th teenager to ever win a Grand Slam singles title, and the question now becomes how many more are in front of her.\""
      ],
      "metadata": {
        "id": "ZK3Gc-ZjXiMA"
      },
      "execution_count": 26,
      "outputs": []
    },
    {
      "cell_type": "code",
      "source": [
        "text2 = \"Novak Djokovic handled the weight of history to defeat Daniil Medvedev on Sunday in the 2023 US Open men's singles final. With a 6-3, 7-6(5), 6-3 victory, the 36-year-old won his 24th Grand Slam singles title, tying Margaret Court's record and bolstering his case to be considered the greatest tennis player of all time.\\\"To make the history of this sport is something truly remarkable and special,\\\" Djokovic said during the trophy ceremony. \\\"I never imagined that I would be here talking about 24 Slams. I never thought that would be the reality, but the last couple of years I felt I have a chance, I have a shot at history—and why not grab it if it's presented.\\\"\""
      ],
      "metadata": {
        "id": "fmLnNNPiXipx"
      },
      "execution_count": 27,
      "outputs": []
    },
    {
      "cell_type": "markdown",
      "source": [
        "# OpenAI Function Calling"
      ],
      "metadata": {
        "id": "7tnzVUuiI6-0"
      }
    },
    {
      "cell_type": "markdown",
      "source": [
        "## Text 1"
      ],
      "metadata": {
        "id": "0IrcG1Rag8EU"
      }
    },
    {
      "cell_type": "markdown",
      "source": [
        "## Step 1 - Call the model with functions and the user’s input (text1)"
      ],
      "metadata": {
        "id": "JXzYX99TI75a"
      }
    },
    {
      "cell_type": "code",
      "source": [
        "functions = [\n",
        "        {\n",
        "            \"name\": \"extract_structured_data\",\n",
        "            \"description\": \"Extraction of all individuals mentioned in the article, including their names, birthdays, profession and home country.\",\n",
        "            \"parameters\": {\n",
        "                \"type\": \"object\",\n",
        "                \"properties\": {\n",
        "                    \"people\": {\n",
        "                        \"type\": \"array\",\n",
        "                        \"items\": {\n",
        "                            \"type\": \"object\",\n",
        "                            \"properties\": {\n",
        "                                \"name\" : {\n",
        "                                    \"type\": \"string\",\n",
        "                                    \"description\": \"Name of the individual\"\n",
        "                                },\n",
        "                                \"birthday\" : {\n",
        "                                    \"type\": \"string\",\n",
        "                                    \"description\": \"Birthday of the individual\"\n",
        "                                },\n",
        "                               \"profession\" : {\n",
        "                                    \"type\": \"string\",\n",
        "                                    \"description\": \"Profession of the individual\"\n",
        "                                },\n",
        "                                \"home_country\" : {\n",
        "                                    \"type\": \"string\",\n",
        "                                    \"description\": \"Home country of the individual\"\n",
        "                                }\n",
        "                            }\n",
        "                        }\n",
        "                    },\n",
        "                },\n",
        "                \"required\": [\"people\"],\n",
        "            },\n",
        "        }\n",
        "    ]"
      ],
      "metadata": {
        "id": "oz16ipv_ECVr"
      },
      "execution_count": 28,
      "outputs": []
    },
    {
      "cell_type": "code",
      "source": [
        "available_functions = {\n",
        "            \"extract_structured_data\": format_json,\n",
        "        }"
      ],
      "metadata": {
        "id": "cYc9EZdYIvOv"
      },
      "execution_count": 29,
      "outputs": []
    },
    {
      "cell_type": "code",
      "source": [
        "messages = [{\"role\": \"user\", \"content\": text1}]"
      ],
      "metadata": {
        "id": "tF79j9Ge_Dic"
      },
      "execution_count": 30,
      "outputs": []
    },
    {
      "cell_type": "code",
      "source": [
        "response = openai.ChatCompletion.create(\n",
        "        model=\"gpt-3.5-turbo-0613\",\n",
        "        messages=messages,\n",
        "        functions=functions,\n",
        "        function_call=\"auto\"\n",
        "    )"
      ],
      "metadata": {
        "id": "M9jiUULwFYBd"
      },
      "execution_count": 31,
      "outputs": []
    },
    {
      "cell_type": "markdown",
      "source": [
        "## Step 2 - Use the model response to call your API"
      ],
      "metadata": {
        "id": "b34E1nJWHu28"
      }
    },
    {
      "cell_type": "code",
      "source": [
        "response_msg = response.choices[0].message"
      ],
      "metadata": {
        "id": "eZyqJ5TGJKRA"
      },
      "execution_count": 32,
      "outputs": []
    },
    {
      "cell_type": "code",
      "source": [
        "print(response_msg)"
      ],
      "metadata": {
        "colab": {
          "base_uri": "https://localhost:8080/"
        },
        "id": "ZYarND03JRud",
        "outputId": "4168b983-c7f0-4eaa-f008-9f281bf79dd4"
      },
      "execution_count": 33,
      "outputs": [
        {
          "output_type": "stream",
          "name": "stdout",
          "text": [
            "{\n",
            "  \"role\": \"assistant\",\n",
            "  \"content\": null,\n",
            "  \"function_call\": {\n",
            "    \"name\": \"extract_structured_data\",\n",
            "    \"arguments\": \"{\\n  \\\"people\\\": [\\n    {\\n      \\\"name\\\": \\\"Coco Gauff\\\",\\n      \\\"birthday\\\": \\\"March 13, 2004\\\",\\n      \\\"profession\\\": \\\"tennis player\\\",\\n      \\\"home_country\\\": \\\"United States\\\"\\n    },\\n    {\\n      \\\"name\\\": \\\"Aryna Sabalenka\\\",\\n      \\\"birthday\\\": \\\"May 5, 1998\\\",\\n      \\\"profession\\\": \\\"tennis player\\\",\\n      \\\"home_country\\\": \\\"Belarus\\\"\\n    }\\n  ]\\n}\"\n",
            "  }\n",
            "}\n"
          ]
        }
      ]
    },
    {
      "cell_type": "code",
      "source": [
        "if response_msg.get(\"function_call\"):\n",
        "    function_name = response_msg[\"function_call\"][\"name\"]\n",
        "    function_to_call = available_functions[function_name]\n",
        "    function_args = json.loads(response_msg[\"function_call\"][\"arguments\"])\n",
        "    function_response = function_to_call(\n",
        "            people=function_args.get(\"people\")\n",
        "    )"
      ],
      "metadata": {
        "id": "zOwsB5MJGE-1"
      },
      "execution_count": 34,
      "outputs": []
    },
    {
      "cell_type": "code",
      "source": [
        "print(function_response)"
      ],
      "metadata": {
        "colab": {
          "base_uri": "https://localhost:8080/"
        },
        "id": "pjwR4HJ0JWC4",
        "outputId": "0330770c-27e2-4f7e-c7e3-28ad8a38f209"
      },
      "execution_count": 35,
      "outputs": [
        {
          "output_type": "stream",
          "name": "stdout",
          "text": [
            "[\n",
            "  {\n",
            "    \"name\": \"Coco Gauff\",\n",
            "    \"birthday\": \"March 13, 2004\",\n",
            "    \"profession\": \"tennis player\",\n",
            "    \"home_country\": \"United States\"\n",
            "  },\n",
            "  {\n",
            "    \"name\": \"Aryna Sabalenka\",\n",
            "    \"birthday\": \"May 5, 1998\",\n",
            "    \"profession\": \"tennis player\",\n",
            "    \"home_country\": \"Belarus\"\n",
            "  }\n",
            "]\n"
          ]
        }
      ]
    },
    {
      "cell_type": "markdown",
      "source": [
        "## Step 3 - Send the response back to the model to summarize"
      ],
      "metadata": {
        "id": "o3BP3Q6nJcII"
      }
    },
    {
      "cell_type": "code",
      "source": [
        "messages.append(response_msg)  # extend conversation with assistant's reply\n",
        "messages.append(\n",
        "            {\n",
        "                \"role\": \"function\",\n",
        "                \"name\": function_name,\n",
        "                \"content\": function_response,\n",
        "            }\n",
        "        )  # extend conversation with function response\n",
        "response_to_user = openai.ChatCompletion.create(\n",
        "            model=\"gpt-3.5-turbo-0613\",\n",
        "            messages=messages,\n",
        "        )  # get a new response from GPT where it can see the function response"
      ],
      "metadata": {
        "id": "nXzWik2bJcxx"
      },
      "execution_count": 36,
      "outputs": []
    },
    {
      "cell_type": "code",
      "source": [
        "response_to_user"
      ],
      "metadata": {
        "colab": {
          "base_uri": "https://localhost:8080/"
        },
        "id": "CluIPRuRJhtd",
        "outputId": "3fcaf61f-c367-43d6-dbd7-bb92b9080866"
      },
      "execution_count": 37,
      "outputs": [
        {
          "output_type": "execute_result",
          "data": {
            "text/plain": [
              "<OpenAIObject chat.completion id=chatcmpl-83VPFSRiUpknsNweVbRKHMsWgqBFK at 0x7b1278259a30> JSON: {\n",
              "  \"id\": \"chatcmpl-83VPFSRiUpknsNweVbRKHMsWgqBFK\",\n",
              "  \"object\": \"chat.completion\",\n",
              "  \"created\": 1695846401,\n",
              "  \"model\": \"gpt-3.5-turbo-0613\",\n",
              "  \"choices\": [\n",
              "    {\n",
              "      \"index\": 0,\n",
              "      \"message\": {\n",
              "        \"role\": \"assistant\",\n",
              "        \"content\": \"Coco Gauff, born on March 13, 2004, is an American tennis player. Aryna Sabalenka, born on May 5, 1998, is a Belarusian tennis player.\"\n",
              "      },\n",
              "      \"finish_reason\": \"stop\"\n",
              "    }\n",
              "  ],\n",
              "  \"usage\": {\n",
              "    \"prompt_tokens\": 350,\n",
              "    \"completion_tokens\": 44,\n",
              "    \"total_tokens\": 394\n",
              "  }\n",
              "}"
            ]
          },
          "metadata": {},
          "execution_count": 37
        }
      ]
    },
    {
      "cell_type": "markdown",
      "source": [
        "## Text 2"
      ],
      "metadata": {
        "id": "CBd63q5uhcAJ"
      }
    },
    {
      "cell_type": "markdown",
      "source": [
        "## Step 1 - Call the model with functions and the user’s input (text2)"
      ],
      "metadata": {
        "id": "FRUYRfKmGber"
      }
    },
    {
      "cell_type": "code",
      "source": [
        "messages = [{\"role\": \"user\", \"content\": text2}]"
      ],
      "metadata": {
        "id": "BwmAWZHGGdG0"
      },
      "execution_count": 38,
      "outputs": []
    },
    {
      "cell_type": "code",
      "source": [
        "functions = [\n",
        "        {\n",
        "            \"name\": \"extract_structured_data\",\n",
        "            \"description\": \"Extraction of all individuals mentioned in the article, including their names, birthdays, profession and home country.\",\n",
        "            \"parameters\": {\n",
        "                \"type\": \"object\",\n",
        "                \"properties\": {\n",
        "                    \"people\": {\n",
        "                        \"type\": \"array\",\n",
        "                        \"items\": {\n",
        "                            \"type\": \"object\",\n",
        "                            \"properties\": {\n",
        "                                \"name\" : {\n",
        "                                    \"type\": \"string\",\n",
        "                                    \"description\": \"Name of the individual\"\n",
        "                                },\n",
        "                                \"birthday\" : {\n",
        "                                    \"type\": \"string\",\n",
        "                                    \"description\": \"Birthday of the individual\"\n",
        "                                },\n",
        "                               \"profession\" : {\n",
        "                                    \"type\": \"string\",\n",
        "                                    \"description\": \"Profession of the individual\"\n",
        "                                },\n",
        "                                \"home_country\" : {\n",
        "                                    \"type\": \"string\",\n",
        "                                    \"description\": \"Home country of the individual\"\n",
        "                                }\n",
        "                            }\n",
        "                        }\n",
        "                    },\n",
        "                },\n",
        "                \"required\": [\"people\"],\n",
        "            },\n",
        "        }\n",
        "    ]"
      ],
      "metadata": {
        "id": "uE1fnbV-GhxT"
      },
      "execution_count": 39,
      "outputs": []
    },
    {
      "cell_type": "code",
      "source": [
        "available_functions = {\n",
        "            \"extract_structured_data\": format_json,\n",
        "        }"
      ],
      "metadata": {
        "id": "WEhAuvP5Gl6P"
      },
      "execution_count": 41,
      "outputs": []
    },
    {
      "cell_type": "code",
      "source": [
        "response = openai.ChatCompletion.create(\n",
        "        model=\"gpt-3.5-turbo-0613\",\n",
        "        messages=messages,\n",
        "        functions=functions,\n",
        "        function_call=\"auto\"\n",
        "    )"
      ],
      "metadata": {
        "id": "9pvgO5WTcYeT"
      },
      "execution_count": 42,
      "outputs": []
    },
    {
      "cell_type": "markdown",
      "source": [
        "## Step 2 - Use the model response to call your API"
      ],
      "metadata": {
        "id": "DEJnEv5CceQl"
      }
    },
    {
      "cell_type": "code",
      "source": [
        "response_msg = response.choices[0].message\n",
        "if response_msg.get(\"function_call\"):\n",
        "    function_name = response_msg[\"function_call\"][\"name\"]\n",
        "    function_to_call = available_functions[function_name]\n",
        "    function_args = json.loads(response_msg[\"function_call\"][\"arguments\"])\n",
        "    function_response = function_to_call(\n",
        "            people=function_args.get(\"people\")\n",
        "    )"
      ],
      "metadata": {
        "id": "GcalBIcUckG3"
      },
      "execution_count": 43,
      "outputs": []
    },
    {
      "cell_type": "code",
      "source": [
        "print(response_msg)"
      ],
      "metadata": {
        "colab": {
          "base_uri": "https://localhost:8080/"
        },
        "id": "Lr2V5nlkeYOw",
        "outputId": "cb4d6676-b922-417c-f7f8-99bd034ab81b"
      },
      "execution_count": 44,
      "outputs": [
        {
          "output_type": "stream",
          "name": "stdout",
          "text": [
            "{\n",
            "  \"role\": \"assistant\",\n",
            "  \"content\": null,\n",
            "  \"function_call\": {\n",
            "    \"name\": \"extract_structured_data\",\n",
            "    \"arguments\": \"{\\n  \\\"people\\\": [\\n    {\\n      \\\"name\\\": \\\"Novak Djokovic\\\",\\n      \\\"birthday\\\": \\\"May 22, 1987\\\",\\n      \\\"profession\\\": \\\"tennis player\\\",\\n      \\\"home_country\\\": \\\"Serbia\\\"\\n    },\\n    {\\n      \\\"name\\\": \\\"Daniil Medvedev\\\",\\n      \\\"birthday\\\": \\\"February 11, 1996\\\",\\n      \\\"profession\\\": \\\"tennis player\\\",\\n      \\\"home_country\\\": \\\"Russia\\\"\\n    },\\n    {\\n      \\\"name\\\": \\\"Margaret Court\\\",\\n      \\\"birthday\\\": \\\"July 16, 1942\\\",\\n      \\\"profession\\\": \\\"retired tennis player\\\",\\n      \\\"home_country\\\": \\\"Australia\\\"\\n    }\\n  ]\\n}\"\n",
            "  }\n",
            "}\n"
          ]
        }
      ]
    },
    {
      "cell_type": "code",
      "source": [
        "print(function_response)"
      ],
      "metadata": {
        "colab": {
          "base_uri": "https://localhost:8080/"
        },
        "id": "Q_YVNFU6ehPi",
        "outputId": "59fa23e6-9f7e-4127-ec6d-844b3c175b3e"
      },
      "execution_count": 45,
      "outputs": [
        {
          "output_type": "stream",
          "name": "stdout",
          "text": [
            "[\n",
            "  {\n",
            "    \"name\": \"Novak Djokovic\",\n",
            "    \"birthday\": \"May 22, 1987\",\n",
            "    \"profession\": \"tennis player\",\n",
            "    \"home_country\": \"Serbia\"\n",
            "  },\n",
            "  {\n",
            "    \"name\": \"Daniil Medvedev\",\n",
            "    \"birthday\": \"February 11, 1996\",\n",
            "    \"profession\": \"tennis player\",\n",
            "    \"home_country\": \"Russia\"\n",
            "  },\n",
            "  {\n",
            "    \"name\": \"Margaret Court\",\n",
            "    \"birthday\": \"July 16, 1942\",\n",
            "    \"profession\": \"retired tennis player\",\n",
            "    \"home_country\": \"Australia\"\n",
            "  }\n",
            "]\n"
          ]
        }
      ]
    },
    {
      "cell_type": "markdown",
      "source": [
        "## Step 3 - Send the response back to the model to summarize"
      ],
      "metadata": {
        "id": "DBymk915etv7"
      }
    },
    {
      "cell_type": "code",
      "source": [
        "messages.append(response_msg)  # extend conversation with assistant's reply\n",
        "messages.append(\n",
        "            {\n",
        "                \"role\": \"function\",\n",
        "                \"name\": function_name,\n",
        "                \"content\": function_response,\n",
        "            }\n",
        "        )  # extend conversation with function response\n",
        "response_to_user = openai.ChatCompletion.create(\n",
        "            model=\"gpt-3.5-turbo-0613\",\n",
        "            messages=messages,\n",
        "        )  # get a new response from GPT where it can see the function response"
      ],
      "metadata": {
        "id": "vTBp14WceucT"
      },
      "execution_count": 46,
      "outputs": []
    },
    {
      "cell_type": "code",
      "source": [
        "response_to_user"
      ],
      "metadata": {
        "colab": {
          "base_uri": "https://localhost:8080/"
        },
        "id": "GO4v2yGGeyl7",
        "outputId": "9e8afa75-b123-4674-ff08-b875b43272cb"
      },
      "execution_count": 47,
      "outputs": [
        {
          "output_type": "execute_result",
          "data": {
            "text/plain": [
              "<OpenAIObject chat.completion id=chatcmpl-83VQ2qwv0EcG13tcI3wbTGbwKyiqP at 0x7b12782a4360> JSON: {\n",
              "  \"id\": \"chatcmpl-83VQ2qwv0EcG13tcI3wbTGbwKyiqP\",\n",
              "  \"object\": \"chat.completion\",\n",
              "  \"created\": 1695846450,\n",
              "  \"model\": \"gpt-3.5-turbo-0613\",\n",
              "  \"choices\": [\n",
              "    {\n",
              "      \"index\": 0,\n",
              "      \"message\": {\n",
              "        \"role\": \"assistant\",\n",
              "        \"content\": \"Novak Djokovic, born on May 22, 1987, is a tennis player from Serbia. Daniil Medvedev, born on February 11, 1996, is a tennis player from Russia. Margaret Court, born on July 16, 1942, is a retired tennis player from Australia.\"\n",
              "      },\n",
              "      \"finish_reason\": \"stop\"\n",
              "    }\n",
              "  ],\n",
              "  \"usage\": {\n",
              "    \"prompt_tokens\": 470,\n",
              "    \"completion_tokens\": 67,\n",
              "    \"total_tokens\": 537\n",
              "  }\n",
              "}"
            ]
          },
          "metadata": {},
          "execution_count": 47
        }
      ]
    }
  ]
}