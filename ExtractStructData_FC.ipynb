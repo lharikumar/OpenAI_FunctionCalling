{
  "nbformat": 4,
  "nbformat_minor": 0,
  "metadata": {
    "colab": {
      "provenance": [],
      "authorship_tag": "ABX9TyMc6QULI1enwlzLvDbz5/Ix",
      "include_colab_link": true
    },
    "kernelspec": {
      "name": "python3",
      "display_name": "Python 3"
    },
    "language_info": {
      "name": "python"
    }
  },
  "cells": [
    {
      "cell_type": "markdown",
      "metadata": {
        "id": "view-in-github",
        "colab_type": "text"
      },
      "source": [
        "<a href=\"https://colab.research.google.com/github/lharikumar/OpenAI_FunctionCalling/blob/main/ExtractStructData_FC.ipynb\" target=\"_parent\"><img src=\"https://colab.research.google.com/assets/colab-badge.svg\" alt=\"Open In Colab\"/></a>"
      ]
    },
    {
      "cell_type": "markdown",
      "source": [
        "**Pre-requisites:**\n",
        "\n",
        "1.   Get the OpenAI API key at https://platform.openai.com/account/api-keys\n",
        "2.   We need a text to extract structured data from. I have taken the first two paragraphs from https://www.npr.org/2022/09/23/1124900604/roger-federer-loses-final-match-laver-cup\n",
        "\n",
        "\n",
        "**Note:**\n",
        "\n",
        "*   Store the OpenAI API key as an environment variable. Never use them directly in the code"
      ],
      "metadata": {
        "id": "aq4StepB9lhL"
      }
    },
    {
      "cell_type": "code",
      "execution_count": 1,
      "metadata": {
        "id": "V9d7S4ht9C9N"
      },
      "outputs": [],
      "source": [
        "!pip install -qU python-dotenv openai"
      ]
    },
    {
      "cell_type": "code",
      "source": [
        "import os\n",
        "import dotenv\n",
        "import openai\n",
        "import json"
      ],
      "metadata": {
        "id": "DQbsSJFg9ahd"
      },
      "execution_count": 2,
      "outputs": []
    },
    {
      "cell_type": "code",
      "source": [
        "dotenv.load_dotenv('/content/env_files/.env')\n",
        "openai.api_key = os.getenv('OPENAI_API_KEY')"
      ],
      "metadata": {
        "id": "9nNUYZoB9eYP"
      },
      "execution_count": 3,
      "outputs": []
    },
    {
      "cell_type": "code",
      "source": [
        "def process_extracted_data(people):\n",
        "  json_formatted_str = json.dumps(people, indent=2)\n",
        "  return(json_formatted_str)"
      ],
      "metadata": {
        "id": "ZELPAqQeIASk"
      },
      "execution_count": 4,
      "outputs": []
    },
    {
      "cell_type": "code",
      "source": [
        "tmplist =  [{\"name\":\"n1\",\"birthday\":\"January 1, 1900\", \"profession\" : \"p1\", \"home_country\": \"h1\"},{\"name\":\"n2\",\"birthday\":\"December 1, 1900\", \"profession\" : \"p2\", \"home_country\": \"h2\"}]\n",
        "\n",
        "print(process_extracted_data(tmplist))"
      ],
      "metadata": {
        "colab": {
          "base_uri": "https://localhost:8080/"
        },
        "id": "yFPb_xizJp71",
        "outputId": "07d75e7d-4bb9-486a-a7b0-ee5b2a572853"
      },
      "execution_count": 5,
      "outputs": [
        {
          "output_type": "stream",
          "name": "stdout",
          "text": [
            "[\n",
            "  {\n",
            "    \"name\": \"n1\",\n",
            "    \"birthday\": \"January 1, 1900\",\n",
            "    \"profession\": \"p1\",\n",
            "    \"home_country\": \"h1\"\n",
            "  },\n",
            "  {\n",
            "    \"name\": \"n2\",\n",
            "    \"birthday\": \"December 1, 1900\",\n",
            "    \"profession\": \"p2\",\n",
            "    \"home_country\": \"h2\"\n",
            "  }\n",
            "]\n"
          ]
        }
      ]
    },
    {
      "cell_type": "code",
      "source": [
        "text_to_analyze = \"This day, this match, had to come, of course, for Roger Federer, and for tennis, just as it inevitably must for every athlete in every sport. Federer bid adieu Friday night with one last contest before he heads into retirement at age 41 after a superlative career that spanned nearly a quarter-century and included 20 Grand Slam titles and a statesman's role. He wrapped up his days as a professional player with a loss in doubles alongside his longtime rival Rafael Nadal for Team Europe in the Laver Cup against Frances Tiafoe and Jack Sock of Team World.\""
      ],
      "metadata": {
        "id": "MvMYwMPn-c7k"
      },
      "execution_count": 6,
      "outputs": []
    },
    {
      "cell_type": "markdown",
      "source": [
        "# OpenAI Function Calling"
      ],
      "metadata": {
        "id": "7tnzVUuiI6-0"
      }
    },
    {
      "cell_type": "markdown",
      "source": [
        "## Step 1 - Call the model with functions and the user’s input"
      ],
      "metadata": {
        "id": "JXzYX99TI75a"
      }
    },
    {
      "cell_type": "code",
      "source": [
        "messages = [{\"role\": \"user\", \"content\": text_to_analyze}]"
      ],
      "metadata": {
        "id": "tF79j9Ge_Dic"
      },
      "execution_count": 7,
      "outputs": []
    },
    {
      "cell_type": "code",
      "source": [
        "functions = [\n",
        "        {\n",
        "            \"name\": \"extract_structured_data\",\n",
        "            \"description\": \"Extraction of all individuals mentioned in the article, including their names, birthdays, profession and home country.\",\n",
        "            \"parameters\": {\n",
        "                \"type\": \"object\",\n",
        "                \"properties\": {\n",
        "                    \"people\": {\n",
        "                        \"type\": \"array\",\n",
        "                        \"items\": {\n",
        "                            \"type\": \"object\",\n",
        "                            \"properties\": {\n",
        "                                \"name\" : {\n",
        "                                    \"type\": \"string\",\n",
        "                                    \"description\": \"Name of the individual\"\n",
        "                                },\n",
        "                                \"birthday\" : {\n",
        "                                    \"type\": \"string\",\n",
        "                                    \"description\": \"Birthday of the individual\"\n",
        "                                },\n",
        "                                \"profession\" : {\n",
        "                                    \"type\": \"string\",\n",
        "                                    \"description\": \"Profession of the individual\"\n",
        "                                },\n",
        "                                \"home_country\" : {\n",
        "                                    \"type\": \"string\",\n",
        "                                    \"description\": \"Home country of the individual\"\n",
        "                                }\n",
        "                            }\n",
        "                        }\n",
        "                    },\n",
        "                },\n",
        "                \"required\": [\"people\"],\n",
        "            },\n",
        "        }\n",
        "    ]"
      ],
      "metadata": {
        "id": "oz16ipv_ECVr"
      },
      "execution_count": 8,
      "outputs": []
    },
    {
      "cell_type": "code",
      "source": [
        "available_functions = {\n",
        "            \"extract_structured_data\": process_extracted_data,\n",
        "        }"
      ],
      "metadata": {
        "id": "cYc9EZdYIvOv"
      },
      "execution_count": 9,
      "outputs": []
    },
    {
      "cell_type": "code",
      "source": [
        "response = openai.ChatCompletion.create(\n",
        "        model=\"gpt-3.5-turbo-0613\",\n",
        "        messages=messages,\n",
        "        functions=functions,\n",
        "        function_call=\"auto\"\n",
        "    )"
      ],
      "metadata": {
        "id": "M9jiUULwFYBd"
      },
      "execution_count": 10,
      "outputs": []
    },
    {
      "cell_type": "markdown",
      "source": [
        "## Step 2 - Use the model response to call your API"
      ],
      "metadata": {
        "id": "b34E1nJWHu28"
      }
    },
    {
      "cell_type": "code",
      "source": [
        "response_msg = response.choices[0].message\n",
        "if response_msg.get(\"function_call\"):\n",
        "    function_name = response_msg[\"function_call\"][\"name\"]\n",
        "    function_to_call = available_functions[function_name]\n",
        "    function_args = json.loads(response_msg[\"function_call\"][\"arguments\"])\n",
        "    function_response = function_to_call(\n",
        "            people=function_args.get(\"people\")\n",
        "    )"
      ],
      "metadata": {
        "id": "eZyqJ5TGJKRA"
      },
      "execution_count": 11,
      "outputs": []
    },
    {
      "cell_type": "code",
      "source": [
        "print(response_msg)"
      ],
      "metadata": {
        "colab": {
          "base_uri": "https://localhost:8080/"
        },
        "id": "ZYarND03JRud",
        "outputId": "9caf30ef-6b9b-4d0f-d9c4-21729b9df27d"
      },
      "execution_count": 12,
      "outputs": [
        {
          "output_type": "stream",
          "name": "stdout",
          "text": [
            "{\n",
            "  \"role\": \"assistant\",\n",
            "  \"content\": null,\n",
            "  \"function_call\": {\n",
            "    \"name\": \"extract_structured_data\",\n",
            "    \"arguments\": \"{\\n  \\\"people\\\": [\\n    {\\n      \\\"name\\\": \\\"Roger Federer\\\",\\n      \\\"birthday\\\": \\\"August 8, 1981\\\",\\n      \\\"profession\\\": \\\"Tennis player\\\",\\n      \\\"home_country\\\": \\\"Switzerland\\\"\\n    },\\n    {\\n      \\\"name\\\": \\\"Rafael Nadal\\\",\\n      \\\"birthday\\\": \\\"June 3, 1986\\\",\\n      \\\"profession\\\": \\\"Tennis player\\\",\\n      \\\"home_country\\\": \\\"Spain\\\"\\n    },\\n    {\\n      \\\"name\\\": \\\"Frances Tiafoe\\\",\\n      \\\"birthday\\\": \\\"January 20, 1998\\\",\\n      \\\"profession\\\": \\\"Tennis player\\\",\\n      \\\"home_country\\\": \\\"United States\\\"\\n    },\\n    {\\n      \\\"name\\\": \\\"Jack Sock\\\",\\n      \\\"birthday\\\": \\\"September 24, 1992\\\",\\n      \\\"profession\\\": \\\"Tennis player\\\",\\n      \\\"home_country\\\": \\\"United States\\\"\\n    }\\n  ]\\n}\"\n",
            "  }\n",
            "}\n"
          ]
        }
      ]
    },
    {
      "cell_type": "code",
      "source": [
        "print(function_response)"
      ],
      "metadata": {
        "colab": {
          "base_uri": "https://localhost:8080/"
        },
        "id": "pjwR4HJ0JWC4",
        "outputId": "51b8694b-e780-4bf3-b8b8-48fb128fdcf3"
      },
      "execution_count": 13,
      "outputs": [
        {
          "output_type": "stream",
          "name": "stdout",
          "text": [
            "[\n",
            "  {\n",
            "    \"name\": \"Roger Federer\",\n",
            "    \"birthday\": \"August 8, 1981\",\n",
            "    \"profession\": \"Tennis player\",\n",
            "    \"home_country\": \"Switzerland\"\n",
            "  },\n",
            "  {\n",
            "    \"name\": \"Rafael Nadal\",\n",
            "    \"birthday\": \"June 3, 1986\",\n",
            "    \"profession\": \"Tennis player\",\n",
            "    \"home_country\": \"Spain\"\n",
            "  },\n",
            "  {\n",
            "    \"name\": \"Frances Tiafoe\",\n",
            "    \"birthday\": \"January 20, 1998\",\n",
            "    \"profession\": \"Tennis player\",\n",
            "    \"home_country\": \"United States\"\n",
            "  },\n",
            "  {\n",
            "    \"name\": \"Jack Sock\",\n",
            "    \"birthday\": \"September 24, 1992\",\n",
            "    \"profession\": \"Tennis player\",\n",
            "    \"home_country\": \"United States\"\n",
            "  }\n",
            "]\n"
          ]
        }
      ]
    },
    {
      "cell_type": "markdown",
      "source": [
        "## Step 3 - Send the response back to the model to summarize"
      ],
      "metadata": {
        "id": "o3BP3Q6nJcII"
      }
    },
    {
      "cell_type": "code",
      "source": [
        "messages.append(response_msg)  # extend conversation with assistant's reply\n",
        "messages.append(\n",
        "            {\n",
        "                \"role\": \"function\",\n",
        "                \"name\": function_name,\n",
        "                \"content\": function_response,\n",
        "            }\n",
        "        )  # extend conversation with function response\n",
        "response_to_user = openai.ChatCompletion.create(\n",
        "            model=\"gpt-3.5-turbo-0613\",\n",
        "            messages=messages,\n",
        "        )  # get a new response from GPT where it can see the function response"
      ],
      "metadata": {
        "id": "nXzWik2bJcxx"
      },
      "execution_count": 14,
      "outputs": []
    },
    {
      "cell_type": "code",
      "source": [
        "response_to_user"
      ],
      "metadata": {
        "colab": {
          "base_uri": "https://localhost:8080/"
        },
        "id": "CluIPRuRJhtd",
        "outputId": "f36d1b3f-b231-4a80-99cb-4289f947cef5"
      },
      "execution_count": 16,
      "outputs": [
        {
          "output_type": "execute_result",
          "data": {
            "text/plain": [
              "<OpenAIObject chat.completion id=chatcmpl-7Yku9c2ckDValJzv6askl1kjblxul at 0x7f00a4521e40> JSON: {\n",
              "  \"id\": \"chatcmpl-7Yku9c2ckDValJzv6askl1kjblxul\",\n",
              "  \"object\": \"chat.completion\",\n",
              "  \"created\": 1688517809,\n",
              "  \"model\": \"gpt-3.5-turbo-0613\",\n",
              "  \"choices\": [\n",
              "    {\n",
              "      \"index\": 0,\n",
              "      \"message\": {\n",
              "        \"role\": \"assistant\",\n",
              "        \"content\": \"Roger Federer, born on August 8, 1981, is a Swiss tennis player. He had a remarkable career spanning almost a quarter-century and achieved 20 Grand Slam titles. Federer, at the age of 41, played his last match on Friday night before retiring from professional tennis. In this farewell match, he teamed up with his long-time rival Rafael Nadal to play doubles for Team Europe in the Laver Cup against Team World's Frances Tiafoe and Jack Sock. Rafael Nadal, born on June 3, 1986, is a Spanish tennis player. Frances Tiafoe, born on January 20, 1998, represents the United States, and Jack Sock, born on September 24, 1992, is also an American tennis player.\"\n",
              "      },\n",
              "      \"finish_reason\": \"stop\"\n",
              "    }\n",
              "  ],\n",
              "  \"usage\": {\n",
              "    \"prompt_tokens\": 520,\n",
              "    \"completion_tokens\": 165,\n",
              "    \"total_tokens\": 685\n",
              "  }\n",
              "}"
            ]
          },
          "metadata": {},
          "execution_count": 16
        }
      ]
    },
    {
      "cell_type": "markdown",
      "source": [
        "## Ensuring that the responses are correct!!!\n",
        "\n",
        "![image.png](data:image/png;base64,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)"
      ],
      "metadata": {
        "id": "7m7ywvEE5KfP"
      }
    }
  ]
}